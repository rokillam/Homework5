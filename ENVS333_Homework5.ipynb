{
 "cells": [
  {
   "cell_type": "code",
   "execution_count": 2,
   "id": "dec7a3db",
   "metadata": {},
   "outputs": [
    {
     "name": "stdout",
     "output_type": "stream",
     "text": [
      "Module is running\n"
     ]
    }
   ],
   "source": [
    "import converter as cvt"
   ]
  },
  {
   "cell_type": "code",
   "execution_count": 4,
   "id": "b0927fb2",
   "metadata": {},
   "outputs": [
    {
     "name": "stdout",
     "output_type": "stream",
     "text": [
      "Enter distance in miles you want converted to feet: 1\n"
     ]
    },
    {
     "data": {
      "text/plain": [
       "5280.0"
      ]
     },
     "execution_count": 4,
     "metadata": {},
     "output_type": "execute_result"
    }
   ],
   "source": [
    "cvt.mi2ft()"
   ]
  },
  {
   "cell_type": "code",
   "execution_count": 5,
   "id": "3f02613b",
   "metadata": {},
   "outputs": [
    {
     "name": "stdout",
     "output_type": "stream",
     "text": [
      "Enter distance in feet you want converted to miles: 5280\n"
     ]
    },
    {
     "data": {
      "text/plain": [
       "1.0"
      ]
     },
     "execution_count": 5,
     "metadata": {},
     "output_type": "execute_result"
    }
   ],
   "source": [
    "cvt.ft2mi()"
   ]
  },
  {
   "cell_type": "code",
   "execution_count": 7,
   "id": "661e476a",
   "metadata": {},
   "outputs": [
    {
     "name": "stdout",
     "output_type": "stream",
     "text": [
      "Enter the temperature you want converted to degrees farenheit: 0\n"
     ]
    },
    {
     "data": {
      "text/plain": [
       "32.0"
      ]
     },
     "execution_count": 7,
     "metadata": {},
     "output_type": "execute_result"
    }
   ],
   "source": [
    "cvt.c2f()"
   ]
  },
  {
   "cell_type": "code",
   "execution_count": 8,
   "id": "6c60fed7",
   "metadata": {},
   "outputs": [
    {
     "name": "stdout",
     "output_type": "stream",
     "text": [
      "Enter the temperature you want converted to degrees celcius: 32\n"
     ]
    },
    {
     "data": {
      "text/plain": [
       "0.0"
      ]
     },
     "execution_count": 8,
     "metadata": {},
     "output_type": "execute_result"
    }
   ],
   "source": [
    "cvt.f2c()"
   ]
  },
  {
   "cell_type": "code",
   "execution_count": 9,
   "id": "88daa9a1",
   "metadata": {},
   "outputs": [
    {
     "name": "stdout",
     "output_type": "stream",
     "text": [
      "Enter the time in seconds you want converted to hours: 3600\n"
     ]
    },
    {
     "data": {
      "text/plain": [
       "1.0"
      ]
     },
     "execution_count": 9,
     "metadata": {},
     "output_type": "execute_result"
    }
   ],
   "source": [
    "cvt.sec2hr()"
   ]
  },
  {
   "cell_type": "code",
   "execution_count": 11,
   "id": "06988002",
   "metadata": {},
   "outputs": [
    {
     "name": "stdout",
     "output_type": "stream",
     "text": [
      "Enter the time in hours you want converted to seconds: 1\n"
     ]
    },
    {
     "data": {
      "text/plain": [
       "3600.0"
      ]
     },
     "execution_count": 11,
     "metadata": {},
     "output_type": "execute_result"
    }
   ],
   "source": [
    "cvt.hr2sec()"
   ]
  },
  {
   "cell_type": "code",
   "execution_count": 13,
   "id": "65a275ee",
   "metadata": {},
   "outputs": [
    {
     "name": "stdout",
     "output_type": "stream",
     "text": [
      "Enter coordinates here: 42°17'52.7\"N, 71°26'09.5\"W\n"
     ]
    },
    {
     "data": {
      "text/plain": [
       "(42.29797222222222, -71.43597222222223)"
      ]
     },
     "execution_count": 13,
     "metadata": {},
     "output_type": "execute_result"
    }
   ],
   "source": [
    "cvt.coord()"
   ]
  },
  {
   "cell_type": "code",
   "execution_count": null,
   "id": "ce8c4fc2",
   "metadata": {},
   "outputs": [],
   "source": []
  }
 ],
 "metadata": {
  "kernelspec": {
   "display_name": "Python 3",
   "language": "python",
   "name": "python3"
  },
  "language_info": {
   "codemirror_mode": {
    "name": "ipython",
    "version": 3
   },
   "file_extension": ".py",
   "mimetype": "text/x-python",
   "name": "python",
   "nbconvert_exporter": "python",
   "pygments_lexer": "ipython3",
   "version": "3.7.11"
  }
 },
 "nbformat": 4,
 "nbformat_minor": 5
}
